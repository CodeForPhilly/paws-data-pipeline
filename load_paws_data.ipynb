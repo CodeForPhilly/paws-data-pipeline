{
 "cells": [
  {
   "cell_type": "code",
   "execution_count": null,
   "metadata": {},
   "outputs": [],
   "source": [
    "import sqlite3\n",
    "import pandas as pd\n",
    "import re"
   ]
  },
  {
   "cell_type": "code",
   "execution_count": null,
   "metadata": {},
   "outputs": [],
   "source": [
    "# connect to or create database\n",
    "\n",
    "conn = sqlite3.connect(\"./sample_data/paws.db\")"
   ]
  },
  {
   "cell_type": "code",
   "execution_count": null,
   "metadata": {},
   "outputs": [],
   "source": [
    "# function for loading csvs into database tables\n",
    "\n",
    "def load_to_sqlite(csv_name, table_name, connection):\n",
    "    \n",
    "    # load csv into a dataframe\n",
    "    df = pd.read_csv(csv_name, encoding='cp1252')\n",
    "    \n",
    "    # strip whitespace and periods from headers, convert to lowercase\n",
    "    df.columns = df.columns.str.lower().str.strip()\n",
    "    df.columns = df.columns.str.replace(' ', '_')\n",
    "    df.columns = df.columns.map(lambda x: re.sub(r'\\.+', '_', x))\n",
    "    \n",
    "    # drop dataframe into database table\n",
    "    df.to_sql(table_name, connection, index=False,)"
   ]
  },
  {
   "cell_type": "code",
   "execution_count": null,
   "metadata": {},
   "outputs": [],
   "source": [
    "# load petpoint\n",
    "\n",
    "load_to_sqlite('./sample_data/CfP_PDP_petpoint_deidentified.csv', 'petpoint', conn)"
   ]
  },
  {
   "cell_type": "code",
   "execution_count": null,
   "metadata": {},
   "outputs": [],
   "source": [
    "# load volgistics\n",
    "\n",
    "load_to_sqlite('./sample_data/CfP_PDP_volgistics_deidentified.csv', 'volgistics', conn)"
   ]
  },
  {
   "cell_type": "code",
   "execution_count": null,
   "metadata": {},
   "outputs": [],
   "source": [
    "# load salesforce contacts\n",
    "\n",
    "load_to_sqlite('./sample_data/CfP_PDP_salesforceContacts_deidentified.csv', 'salesforcecontacts', conn)"
   ]
  },
  {
   "cell_type": "code",
   "execution_count": null,
   "metadata": {},
   "outputs": [],
   "source": [
    "# load salesforce donations\n",
    "\n",
    "load_to_sqlite('./sample_data/CfP_PDP_salesforceDonations_deidentified.csv', 'salesforcedonations', conn)"
   ]
  },
  {
   "cell_type": "code",
   "execution_count": null,
   "metadata": {},
   "outputs": [],
   "source": [
    "# simple join to check that it worked and the tables can be queried\n",
    "\n",
    "df = pd.read_sql('''select * from petpoint as pp \n",
    "                    join volgistics as vol \n",
    "                    on pp.\"unnamed:_0\" = vol.\"unnamed:_0\"\n",
    "\n",
    "                    join (SELECT * FROM salesforcecontacts AS sf_contacts\n",
    "                            JOIN salesforcedonations AS sf_donations\n",
    "                            ON sf_contacts.\"Account_ID\" = sf_donations.\"Account_ID\") as sf\n",
    "                    on pp.\"unnamed:_0\" = sf.\"unnamed:_0\"\n",
    "                    \n",
    "                    ''', conn)\n",
    "\n",
    "df.head()"
   ]
  },
  {
   "cell_type": "code",
   "execution_count": null,
   "metadata": {},
   "outputs": [],
   "source": [
    "# get all data matching on (first name + last name)\n",
    "\n",
    "df2 = pd.read_sql('''SELECT * FROM petpoint AS pp\n",
    "                     INNER JOIN volgistics AS vol ON pp.\"Intake_Record_Owner\" = vol.\"First_name_Last_name\"\n",
    "                     INNER JOIN (SELECT * FROM salesforcecontacts AS sf_contacts\n",
    "                            JOIN salesforcedonations AS sf_donations\n",
    "                            ON sf_contacts.\"Account_ID\" = sf_donations.\"Account_ID\") AS sf\n",
    "                     ON pp.\"Intake_Record_Owner\" = (sf.\"First_Name\" + \" \" + sf.\"Last_Name\")\n",
    "                  ''', conn)\n",
    "df2.head()"
   ]
  },
  {
   "cell_type": "code",
   "execution_count": null,
   "metadata": {},
   "outputs": [],
   "source": [
    "# close database connection\n",
    "\n",
    "conn.close()"
   ]
  }
 ],
 "metadata": {
  "kernelspec": {
   "display_name": "Python 3",
   "language": "python",
   "name": "python3"
  },
  "language_info": {
   "codemirror_mode": {
    "name": "ipython",
    "version": 3
   },
   "file_extension": ".py",
   "mimetype": "text/x-python",
   "name": "python",
   "nbconvert_exporter": "python",
   "pygments_lexer": "ipython3",
   "version": "3.7.4"
  }
 },
 "nbformat": 4,
 "nbformat_minor": 2
}
